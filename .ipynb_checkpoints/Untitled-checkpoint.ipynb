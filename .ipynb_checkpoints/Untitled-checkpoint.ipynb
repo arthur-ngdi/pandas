{
 "cells": [
  {
   "cell_type": "markdown",
   "id": "d0689126-894a-4de1-9099-b9d30210c6b3",
   "metadata": {},
   "source": [
    "Análise de Dados com Pandas"
   ]
  },
  {
   "cell_type": "code",
   "execution_count": null,
   "id": "00a09a68-a2b5-4987-873f-910144d7fe1e",
   "metadata": {},
   "outputs": [],
   "source": [
    "import pandas as pd\n"
   ]
  }
 ],
 "metadata": {
  "kernelspec": {
   "display_name": "Python 3 (ipykernel)",
   "language": "python",
   "name": "python3"
  },
  "language_info": {
   "codemirror_mode": {
    "name": "ipython",
    "version": 3
   },
   "file_extension": ".py",
   "mimetype": "text/x-python",
   "name": "python",
   "nbconvert_exporter": "python",
   "pygments_lexer": "ipython3",
   "version": "3.12.7"
  }
 },
 "nbformat": 4,
 "nbformat_minor": 5
}
